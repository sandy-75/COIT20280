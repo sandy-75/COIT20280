{
 "metadata": {
  "language_info": {
   "codemirror_mode": {
    "name": "ipython",
    "version": 3
   },
   "file_extension": ".py",
   "mimetype": "text/x-python",
   "name": "python",
   "nbconvert_exporter": "python",
   "pygments_lexer": "ipython3",
   "version": "3.7.6"
  },
  "orig_nbformat": 2,
  "kernelspec": {
   "name": "python3",
   "display_name": "Python 3.7.6 64-bit ('base': conda)"
  },
  "metadata": {
   "interpreter": {
    "hash": "31f2aee4e71d21fbe5cf8b01ff0e069b9275f58929596ceb00d14d90e3e16cd6"
   }
  },
  "interpreter": {
   "hash": "ab6c576cf668ff14d29f0d02eb553fc3cd559ce35bc756069a1f2fa3e90fc2ba"
  }
 },
 "nbformat": 4,
 "nbformat_minor": 2,
 "cells": [
  {
   "cell_type": "markdown",
   "source": [
    "# Module 4 - Solutions & Notes # "
   ],
   "metadata": {}
  },
  {
   "cell_type": "markdown",
   "source": [
    "## 1. Python Basics ##"
   ],
   "metadata": {}
  },
  {
   "cell_type": "markdown",
   "source": [
    "In this section we are going to go through some of the main concepts introduced in Sections 3, 4 and 6 of The Official Python Tutorial (see: https://docs.python.org/3/tutorial/). The purpose of this section is to go through the basics of Python. Most of the tasks are meant to be straightforward and to consolidate what you have already learnt in this tutorial.  "
   ],
   "metadata": {}
  },
  {
   "cell_type": "markdown",
   "source": [
    "### Strings ###"
   ],
   "metadata": {}
  },
  {
   "cell_type": "markdown",
   "source": [
    "In the code cell below print 'Hello World!' to the screen. Refer Section 3.1 of The Official Python Tutorial"
   ],
   "metadata": {}
  },
  {
   "cell_type": "markdown",
   "source": [
    "(0.5 marks)"
   ],
   "metadata": {}
  },
  {
   "cell_type": "code",
   "execution_count": 258,
   "source": [],
   "outputs": [
    {
     "output_type": "stream",
     "name": "stdout",
     "text": [
      "Hello World!\n"
     ]
    }
   ],
   "metadata": {}
  },
  {
   "cell_type": "markdown",
   "source": [
    "This time put your message 'Hello World' in a variable and print this to the screen"
   ],
   "metadata": {}
  },
  {
   "cell_type": "markdown",
   "source": [
    "(0.5 marks) -- (1)"
   ],
   "metadata": {}
  },
  {
   "cell_type": "code",
   "execution_count": 259,
   "source": [],
   "outputs": [
    {
     "output_type": "stream",
     "name": "stdout",
     "text": [
      "Hello World!\n"
     ]
    }
   ],
   "metadata": {}
  },
  {
   "cell_type": "markdown",
   "source": [
    "Now, using slicing print only the first 5 characters of your message ie. 'Hello'. Hint slice your variable appropriately and print that to the screen"
   ],
   "metadata": {}
  },
  {
   "cell_type": "markdown",
   "source": [
    "(0.5 marks) -- 1.5"
   ],
   "metadata": {}
  },
  {
   "cell_type": "code",
   "execution_count": 260,
   "source": [],
   "outputs": [
    {
     "output_type": "stream",
     "name": "stdout",
     "text": [
      "Hello\n"
     ]
    }
   ],
   "metadata": {}
  },
  {
   "cell_type": "markdown",
   "source": [
    "Using slicing print the last word of your message ie. 'World'. Hint: no exclamation mark."
   ],
   "metadata": {}
  },
  {
   "cell_type": "markdown",
   "source": [
    "(0.5 marks) -- 2"
   ],
   "metadata": {}
  },
  {
   "cell_type": "code",
   "execution_count": 261,
   "source": [],
   "outputs": [
    {
     "output_type": "stream",
     "name": "stdout",
     "text": [
      "World\n"
     ]
    }
   ],
   "metadata": {}
  },
  {
   "cell_type": "markdown",
   "source": [
    "Now add these two slices together to create your full original message. Hint you may need to add another couple of variable to get to your original message.  "
   ],
   "metadata": {}
  },
  {
   "cell_type": "markdown",
   "source": [
    "(1.5 marks) -- 3.5"
   ],
   "metadata": {}
  },
  {
   "cell_type": "code",
   "execution_count": 262,
   "source": [],
   "outputs": [
    {
     "output_type": "stream",
     "name": "stdout",
     "text": [
      "Hello World!\n"
     ]
    }
   ],
   "metadata": {}
  },
  {
   "cell_type": "markdown",
   "source": [
    "Now change your message to print 'Hello Jupyter!'. Use your original message as much as possible (rely on slicing) and the variables you have already created to do so."
   ],
   "metadata": {}
  },
  {
   "cell_type": "markdown",
   "source": [
    "(1 mark) -- 4.5"
   ],
   "metadata": {}
  },
  {
   "cell_type": "code",
   "execution_count": 263,
   "source": [],
   "outputs": [
    {
     "output_type": "stream",
     "name": "stdout",
     "text": [
      "Hello Jupyter!\n"
     ]
    }
   ],
   "metadata": {}
  },
  {
   "cell_type": "markdown",
   "source": [
    "### Lists ###"
   ],
   "metadata": {}
  },
  {
   "cell_type": "markdown",
   "source": [
    "In the following code cell we have a list of IP addresses used to test Internet connections (from https://etherealmind.com/what-is-the-best-ip-address-to-ping-to-test-my-internet-connection/) "
   ],
   "metadata": {}
  },
  {
   "cell_type": "code",
   "execution_count": 264,
   "source": [
    "IP_addresses = ['8.8.8.8','8.8.4.4','139.130.4.5','208.67.222.222','208.67.220.220']"
   ],
   "outputs": [],
   "metadata": {}
  },
  {
   "cell_type": "markdown",
   "source": [
    "Now using concatenation add the cloudfare DNS services at 1.1.1.1 and 1.0.0.1. Output to the screen so that you know they have been added."
   ],
   "metadata": {}
  },
  {
   "cell_type": "markdown",
   "source": [
    "(1 mark) -- 5.5"
   ],
   "metadata": {}
  },
  {
   "cell_type": "code",
   "execution_count": 265,
   "source": [],
   "outputs": [
    {
     "output_type": "execute_result",
     "data": {
      "text/plain": [
       "['8.8.8.8',\n",
       " '8.8.4.4',\n",
       " '139.130.4.5',\n",
       " '208.67.222.222',\n",
       " '208.67.220.220',\n",
       " '1.1.1.1',\n",
       " '1.0.0.1']"
      ]
     },
     "metadata": {},
     "execution_count": 265
    }
   ],
   "metadata": {}
  },
  {
   "cell_type": "markdown",
   "source": [
    "Now using append add the Norton DNS servers 198.153.192.1 and 198.153.194.2 to the end of that list. Again make sure you output to the screen so that you know it has been appended to the original list."
   ],
   "metadata": {}
  },
  {
   "cell_type": "markdown",
   "source": [
    "(1 mark) -- 6.5"
   ],
   "metadata": {}
  },
  {
   "cell_type": "code",
   "execution_count": 266,
   "source": [],
   "outputs": [
    {
     "output_type": "stream",
     "name": "stdout",
     "text": [
      "['8.8.8.8', '8.8.4.4', '139.130.4.5', '208.67.222.222', '208.67.220.220', '1.1.1.1', '1.0.0.1', '198.153.192.1', '198.153.194.2']\n"
     ]
    }
   ],
   "metadata": {}
  },
  {
   "cell_type": "markdown",
   "source": [
    "We have decided not to include Norton now due to some security issues so we need to get them off our list. Remove them from our IP_addresses in the code cell below. Output your list to the screen so that you can confirm they have been removed."
   ],
   "metadata": {}
  },
  {
   "cell_type": "markdown",
   "source": [
    "(0.5 mark) -- 7"
   ],
   "metadata": {}
  },
  {
   "cell_type": "code",
   "execution_count": 267,
   "source": [],
   "outputs": [
    {
     "output_type": "execute_result",
     "data": {
      "text/plain": [
       "['8.8.8.8',\n",
       " '8.8.4.4',\n",
       " '139.130.4.5',\n",
       " '208.67.222.222',\n",
       " '208.67.220.220',\n",
       " '1.1.1.1',\n",
       " '1.0.0.1']"
      ]
     },
     "metadata": {},
     "execution_count": 267
    }
   ],
   "metadata": {}
  },
  {
   "cell_type": "markdown",
   "source": [
    "### Basic Programming ###"
   ],
   "metadata": {}
  },
  {
   "cell_type": "markdown",
   "source": [
    "In the code cell below create a while loop that will loop through all numbers starting from zero but less than 20 and will put them into lists of either odd or even. Make sure you print out the lists so that you know they worked.\n",
    "\n",
    "Hint: this is a combination of 3.1.1 (take note of the modulus operator) and 3.2 in the Python Introduction Tutorial as well as section 2.3 of McKinney(2017). You may also just want to quickly check out the syntax for the while loop (see for example: https://realpython.com/python-while-loop/#the-while-loop) "
   ],
   "metadata": {}
  },
  {
   "cell_type": "markdown",
   "source": [
    "(2.5 marks) -- 9.5"
   ],
   "metadata": {}
  },
  {
   "cell_type": "code",
   "execution_count": 268,
   "source": [],
   "outputs": [
    {
     "output_type": "stream",
     "name": "stdout",
     "text": [
      "[1, 3, 5, 7, 9, 11, 13, 15, 17, 19]\n",
      "[0, 2, 4, 6, 8, 10, 12, 14, 16, 18]\n"
     ]
    }
   ],
   "metadata": {
    "tags": []
   }
  },
  {
   "cell_type": "markdown",
   "source": [
    "Now write a function for testing whether a number is odd or evens. Put this in the code cell below"
   ],
   "metadata": {}
  },
  {
   "cell_type": "markdown",
   "source": [
    "(1.5 marks) -- 11"
   ],
   "metadata": {}
  },
  {
   "cell_type": "code",
   "execution_count": 269,
   "source": [],
   "outputs": [],
   "metadata": {}
  },
  {
   "cell_type": "markdown",
   "source": [
    "Use this function to test for all numbers less than 20. Like you did previously set up your lists for odds and evens and print them out to ensure your code has worked."
   ],
   "metadata": {}
  },
  {
   "cell_type": "markdown",
   "source": [
    "(1.5 marks) -- 12.5"
   ],
   "metadata": {}
  },
  {
   "cell_type": "code",
   "execution_count": 270,
   "source": [],
   "outputs": [
    {
     "output_type": "stream",
     "name": "stdout",
     "text": [
      "[1, 3, 5, 7, 9, 11, 13, 15, 17, 19]\n",
      "[0, 2, 4, 6, 8, 10, 12, 14, 16, 18]\n"
     ]
    }
   ],
   "metadata": {}
  },
  {
   "cell_type": "markdown",
   "source": [
    "Change the above so that rather than a while loop it uses the range function "
   ],
   "metadata": {}
  },
  {
   "cell_type": "markdown",
   "source": [
    "(1 mark) -- 13.5"
   ],
   "metadata": {}
  },
  {
   "cell_type": "code",
   "execution_count": 271,
   "source": [],
   "outputs": [
    {
     "output_type": "stream",
     "name": "stdout",
     "text": [
      "[1, 3, 5, 7, 9, 11, 13, 15, 17, 19]\n",
      "[0, 2, 4, 6, 8, 10, 12, 14, 16, 18]\n"
     ]
    }
   ],
   "metadata": {}
  },
  {
   "cell_type": "markdown",
   "source": [
    "## 2. Python Built-in Structures and Functions ##"
   ],
   "metadata": {}
  },
  {
   "cell_type": "markdown",
   "source": [
    "### More Lists ###\n",
    "In this section we are going to use the following IP addresses as a list (addresses are taken from https://etherealmind.com/what-is-the-best-ip-address-to-ping-to-test-my-internet-connection/)"
   ],
   "metadata": {}
  },
  {
   "cell_type": "code",
   "execution_count": 272,
   "source": [
    "IP_addresses = ['8.8.8.8','8.8.4.4','139.130.4.5','208.67.222.222','208.67.220.220','1.1.1.1','1.0.0.1','198.153.192.1','198.153.194.2','139.130.4.5']"
   ],
   "outputs": [],
   "metadata": {}
  },
  {
   "cell_type": "markdown",
   "source": [
    "In the code cell below extend the IP_addresses list by adding the following IP addresses ('205.210.42.205' and '64.68.200.200') from DNSResolvers.com. Print out the IP_addresses list to make sure that your extension has worked."
   ],
   "metadata": {}
  },
  {
   "cell_type": "markdown",
   "source": [
    "(1 mark) -- 14.5"
   ],
   "metadata": {}
  },
  {
   "cell_type": "code",
   "execution_count": 273,
   "source": [],
   "outputs": [
    {
     "output_type": "stream",
     "name": "stdout",
     "text": [
      "['8.8.8.8', '8.8.4.4', '139.130.4.5', '208.67.222.222', '208.67.220.220', '1.1.1.1', '1.0.0.1', '198.153.192.1', '198.153.194.2', '139.130.4.5', '205.210.42.205', '64.68.200.200']\n"
     ]
    }
   ],
   "metadata": {}
  },
  {
   "cell_type": "markdown",
   "source": [
    "Now get the indexes of the two addresses you have just added from DNSResolvers. Print these to screen."
   ],
   "metadata": {}
  },
  {
   "cell_type": "markdown",
   "source": [
    "(1 mark)-- 15.5"
   ],
   "metadata": {}
  },
  {
   "cell_type": "code",
   "execution_count": 274,
   "source": [],
   "outputs": [
    {
     "output_type": "stream",
     "name": "stdout",
     "text": [
      "Index 1: 10\n",
      "Index 2: 11\n"
     ]
    }
   ],
   "metadata": {}
  },
  {
   "cell_type": "markdown",
   "source": [
    "Let's try to sort the IP_addresses list with the list sort function. Print this out to see what sort has done to the IP_addresses list."
   ],
   "metadata": {}
  },
  {
   "cell_type": "markdown",
   "source": [
    "(0.5 marks) -- 16"
   ],
   "metadata": {}
  },
  {
   "cell_type": "code",
   "execution_count": 275,
   "source": [],
   "outputs": [
    {
     "output_type": "execute_result",
     "data": {
      "text/plain": [
       "['1.0.0.1',\n",
       " '1.1.1.1',\n",
       " '139.130.4.5',\n",
       " '139.130.4.5',\n",
       " '198.153.192.1',\n",
       " '198.153.194.2',\n",
       " '205.210.42.205',\n",
       " '208.67.220.220',\n",
       " '208.67.222.222',\n",
       " '64.68.200.200',\n",
       " '8.8.4.4',\n",
       " '8.8.8.8']"
      ]
     },
     "metadata": {},
     "execution_count": 275
    }
   ],
   "metadata": {}
  },
  {
   "cell_type": "markdown",
   "source": [
    "One thing you might notice now after having sorted the IP_address list that you mightn't have noticed at first is that the IP address '139.130.4.5' appears twice. Let's remove the first item that has this value in our IP_addresses list. Again, print the IP_addresses list to screen so that you know your item has been removed."
   ],
   "metadata": {}
  },
  {
   "cell_type": "markdown",
   "source": [
    "(0.5 marks) -- 16.5"
   ],
   "metadata": {}
  },
  {
   "cell_type": "code",
   "execution_count": 276,
   "source": [],
   "outputs": [
    {
     "output_type": "execute_result",
     "data": {
      "text/plain": [
       "['1.0.0.1',\n",
       " '1.1.1.1',\n",
       " '139.130.4.5',\n",
       " '198.153.192.1',\n",
       " '198.153.194.2',\n",
       " '205.210.42.205',\n",
       " '208.67.220.220',\n",
       " '208.67.222.222',\n",
       " '64.68.200.200',\n",
       " '8.8.4.4',\n",
       " '8.8.8.8']"
      ]
     },
     "metadata": {},
     "execution_count": 276
    }
   ],
   "metadata": {}
  },
  {
   "cell_type": "markdown",
   "source": [
    "One other thing that you will notice is that our sorted list seems a little strange. For example, the address '64.68.200.200' comes before the address '8.8.4.4'. We will use this problem to go through some other built-in structures within Python and also develop some functions. At the end we will have our IP_addresses list sorted in the way that we want it."
   ],
   "metadata": {}
  },
  {
   "cell_type": "markdown",
   "source": [
    "### Tuples ###"
   ],
   "metadata": {}
  },
  {
   "cell_type": "markdown",
   "source": [
    "As described in the following post (see https://stackoverflow.com/questions/6545023/how-to-sort-ip-addresses-stored-in-dictionary-in-python) one way of being able to sort our IP address list in the way that we want relies firstly on splitting the IP_address into a tuple. In the code cells below we are going to go through the process of splitting the IP_address (given as a string) into a tuple. "
   ],
   "metadata": {}
  },
  {
   "cell_type": "code",
   "execution_count": 277,
   "source": [
    "IP_address = '205.210.42.205'"
   ],
   "outputs": [],
   "metadata": {}
  },
  {
   "cell_type": "markdown",
   "source": [
    "In the code cell below use the split method to split the IP_address variable on the '.' character. Store the results of this in another variable. Output the variable to the screen to ensure it has worked."
   ],
   "metadata": {}
  },
  {
   "cell_type": "markdown",
   "source": [
    "(0.5 marks) -- 17"
   ],
   "metadata": {}
  },
  {
   "cell_type": "code",
   "execution_count": 278,
   "source": [],
   "outputs": [
    {
     "output_type": "execute_result",
     "data": {
      "text/plain": [
       "['205', '210', '42', '205']"
      ]
     },
     "metadata": {},
     "execution_count": 278
    }
   ],
   "metadata": {}
  },
  {
   "cell_type": "markdown",
   "source": [
    "Ok so let's check the type of this variable in the cell below. Note that the docs tell us what type of variable this is (see https://docs.python.org/3/library/stdtypes.html#str.split) but let's check it now to confirm what our variable type is. Remember that in Python variables can be called anything and this can lead to confusion in some cases. However, one of the great benefits of Python is that it also keeps track of the datatype internally. Hence, we can always query Python to see what datatype our variables are. \n",
    "\n",
    "Use the type() method (see https://docs.python.org/3/library/functions.html#type) on your variable from the code cell above to see what it's type is."
   ],
   "metadata": {}
  },
  {
   "cell_type": "markdown",
   "source": [
    "(0.5 marks) -- 17.5"
   ],
   "metadata": {}
  },
  {
   "cell_type": "code",
   "execution_count": 279,
   "source": [],
   "outputs": [
    {
     "output_type": "execute_result",
     "data": {
      "text/plain": [
       "list"
      ]
     },
     "metadata": {},
     "execution_count": 279
    }
   ],
   "metadata": {}
  },
  {
   "cell_type": "markdown",
   "source": [
    "So now we know that we do have a list. But what about each item that is stored in the list? Write a for loop that iterates over the list checking the datatype of each element in the list and simply prints the datatype to the screen."
   ],
   "metadata": {}
  },
  {
   "cell_type": "markdown",
   "source": [
    "(1 mark) -- 18.5"
   ],
   "metadata": {}
  },
  {
   "cell_type": "code",
   "execution_count": 280,
   "source": [
    "\n"
   ],
   "outputs": [
    {
     "output_type": "stream",
     "name": "stdout",
     "text": [
      "<class 'str'>\n",
      "<class 'str'>\n",
      "<class 'str'>\n",
      "<class 'str'>\n"
     ]
    }
   ],
   "metadata": {}
  },
  {
   "cell_type": "markdown",
   "source": [
    "You should see in the above results that each element is a Data Type: <class 'str'>. That is, a string. However, for our sort function to work in the way that we want each element has to be a numeric data type: an integer type here is what we want. In the code cell below write a for loop that goes through each element of the list and casts it to an integer type - make use of the enumerate function here. See https://docs.python.org/3/library/stdtypes.html for more information on casting to an integer."
   ],
   "metadata": {}
  },
  {
   "cell_type": "markdown",
   "source": [
    "(1 mark) -- 19.5"
   ],
   "metadata": {}
  },
  {
   "cell_type": "code",
   "execution_count": 281,
   "source": [],
   "outputs": [],
   "metadata": {}
  },
  {
   "cell_type": "markdown",
   "source": [
    "Now loop through your list like you did previously (in the code cell previous to the one above) checking the datatype of each element in the list. There should be no need to change any of the code - just reproduce it below:"
   ],
   "metadata": {}
  },
  {
   "cell_type": "markdown",
   "source": [
    "(1 mark) -- 20.5"
   ],
   "metadata": {}
  },
  {
   "cell_type": "code",
   "execution_count": 282,
   "source": [],
   "outputs": [
    {
     "output_type": "stream",
     "name": "stdout",
     "text": [
      "<class 'int'>\n",
      "<class 'int'>\n",
      "<class 'int'>\n",
      "<class 'int'>\n"
     ]
    }
   ],
   "metadata": {}
  },
  {
   "cell_type": "markdown",
   "source": [
    "In the above results you should see <class 'int'> printed four times. This means that you have successfully casted the elements in your list to integers. If you still see <class 'str'> then you haven't successfully cast the elements in your list to integers. Go back to the code cell where you did this and have another look at it. Firstly, make sure that you are firstly casting each element in the list to an integer type. Secondly make sure that you are accessing that elements index in the list and changing it to this new type.  "
   ],
   "metadata": {}
  },
  {
   "cell_type": "markdown",
   "source": [
    "Now let's change our list to a tuple. It should be pointed out here that assigning an IP_address to a tuple type is the most logical thing to do. An IP address is made up of four numbers and it is these numbers in their unique positions that allows us to identify each device connected to a computer network. It is important that the integrity of the address is protected. Changing the address from a list to a tuple here ensures that this is so - the IP address cannot be manipulated later on (either accidentally or on purpose). \n",
    "\n",
    "Go ahead and do that now. This is a simple one line of code that casts the list to a tuple. "
   ],
   "metadata": {}
  },
  {
   "cell_type": "markdown",
   "source": [
    "(0.5 marks) -- 21"
   ],
   "metadata": {}
  },
  {
   "cell_type": "code",
   "execution_count": 283,
   "source": [],
   "outputs": [],
   "metadata": {}
  },
  {
   "cell_type": "markdown",
   "source": [
    "Let's now check the datatype of the 'list' now - note that we are not expecting it to be a list datatype"
   ],
   "metadata": {}
  },
  {
   "cell_type": "markdown",
   "source": [
    "(0.5 marks) -- 21.5"
   ],
   "metadata": {}
  },
  {
   "cell_type": "code",
   "execution_count": 284,
   "source": [],
   "outputs": [
    {
     "output_type": "execute_result",
     "data": {
      "text/plain": [
       "tuple"
      ]
     },
     "metadata": {},
     "execution_count": 284
    }
   ],
   "metadata": {}
  },
  {
   "cell_type": "markdown",
   "source": [
    "In the above if you have managed to still get a list as the datatype go back to where you cast your list to a tuple. Make sure that you have created a variable to receive the casted tuple. This can be a new variable name or you can use the old variable name. Then check the type of that variable. "
   ],
   "metadata": {}
  },
  {
   "cell_type": "markdown",
   "source": [
    "### Dictionary ###"
   ],
   "metadata": {}
  },
  {
   "cell_type": "markdown",
   "source": [
    "Dictionaries are commonplace in Python programming and are useful when we need to store key, value pairs. As a simple example let's create a dictionary in the below code cell that has one single entry. This entry will be one single IP address (the key) and it's associated server (the value). Let the key be the IP address '8.8.8.8' and the value be the server 'Google'.  Output the result to screen so you can see what it looks like."
   ],
   "metadata": {}
  },
  {
   "cell_type": "markdown",
   "source": [
    "(0.5 marks) -- 22"
   ],
   "metadata": {}
  },
  {
   "cell_type": "code",
   "execution_count": 285,
   "source": [],
   "outputs": [
    {
     "output_type": "execute_result",
     "data": {
      "text/plain": [
       "{'8.8.8.8': 'Google'}"
      ]
     },
     "metadata": {},
     "execution_count": 285
    }
   ],
   "metadata": {}
  },
  {
   "cell_type": "markdown",
   "source": [
    "In the above code you should get output that looks like {'8.8.8.8': 'Google'}. This is all that is contained in your dictionary. This isn't the only entry we want however, let's go ahead and construct a dictionary for all of the IP addresses that link the IP address with it's associated server. See https://etherealmind.com/what-is-the-best-ip-address-to-ping-to-test-my-internet-connection/ for details of all IP addresses and which IP address is linked to which server. You should have 11 entries for your dictionary."
   ],
   "metadata": {}
  },
  {
   "cell_type": "markdown",
   "source": [
    "(1.5 marks) -- 23.5"
   ],
   "metadata": {}
  },
  {
   "cell_type": "code",
   "execution_count": 286,
   "source": [],
   "outputs": [],
   "metadata": {}
  },
  {
   "cell_type": "markdown",
   "source": [
    "Now print the IP_addresses dictionary to screen to see what's in your variable"
   ],
   "metadata": {}
  },
  {
   "cell_type": "markdown",
   "source": [
    "(0.5 marks) -- 24"
   ],
   "metadata": {}
  },
  {
   "cell_type": "code",
   "execution_count": 287,
   "source": [],
   "outputs": [
    {
     "output_type": "execute_result",
     "data": {
      "text/plain": [
       "{'8.8.8.8': 'Google',\n",
       " '8.8.4.4': 'Google',\n",
       " '139.130.4.5': 'Telstra',\n",
       " '208.67.222.222': 'OpenDNS',\n",
       " '208.67.220.220': 'OpenDNS',\n",
       " '1.1.1.1': 'Cloudflare',\n",
       " '1.0.0.1': 'Cloudflare',\n",
       " '198.153.192.1': 'Norton',\n",
       " '198.153.194.2': 'Norton',\n",
       " '205.210.42.205': 'DNSResolvers',\n",
       " '64.68.200.200': 'DNSResolvers'}"
      ]
     },
     "metadata": {},
     "execution_count": 287
    }
   ],
   "metadata": {}
  },
  {
   "cell_type": "markdown",
   "source": [
    "You should check in the above that you have 11 entries in your dictionary."
   ],
   "metadata": {}
  },
  {
   "cell_type": "markdown",
   "source": [
    "Now let's check the datatype of the variable to check that we do indeed have a dict datatype"
   ],
   "metadata": {}
  },
  {
   "cell_type": "markdown",
   "source": [
    "(0.5 marks) -- 24.5"
   ],
   "metadata": {}
  },
  {
   "cell_type": "code",
   "execution_count": 288,
   "source": [],
   "outputs": [
    {
     "output_type": "execute_result",
     "data": {
      "text/plain": [
       "dict"
      ]
     },
     "metadata": {},
     "execution_count": 288
    }
   ],
   "metadata": {}
  },
  {
   "cell_type": "markdown",
   "source": [
    "If you get any result other than a dict in the above go back and check your code. In the following cell let's look up what server is associated with the IP address 1.1.1.1"
   ],
   "metadata": {}
  },
  {
   "cell_type": "markdown",
   "source": [
    "(0.5 marks) -- 25"
   ],
   "metadata": {}
  },
  {
   "cell_type": "code",
   "execution_count": 289,
   "source": [],
   "outputs": [
    {
     "output_type": "execute_result",
     "data": {
      "text/plain": [
       "'Cloudflare'"
      ]
     },
     "metadata": {},
     "execution_count": 289
    }
   ],
   "metadata": {}
  },
  {
   "cell_type": "markdown",
   "source": [
    "Before we finish off this dictionary section you should note that the ipaddress module, which is the module that you should use if you need to do any practical work with IP addresses, implements their IP addresses as hashable objects 'so that they can be used as keys in dictionaries'. This is a very similar idea to what we have done here: creating our IP addresses as hashable objects. For those who are interested in this IPv4/IPv6 manipulation library and what it can do see (https://docs.python.org/3/library/ipaddress.html) and (https://docs.python.org/3/howto/ipaddress.html)."
   ],
   "metadata": {}
  },
  {
   "cell_type": "markdown",
   "source": [
    "### Functions ###"
   ],
   "metadata": {}
  },
  {
   "cell_type": "markdown",
   "source": [
    "Just before the dictionary section we covered tuples in the context of sorting IP addresses. Our last task was to convert our an IP address from a list datatype to a tuple datatype. We also made sure that our tuple contained each individual part of the IP address as an integer and not a string. In this section we are going to use that same code but make use of functions. Our code here is going to be a somewhat simplified version of what is in the post on stackoverflow (see: https://stackoverflow.com/questions/6545023/how-to-sort-ip-addresses-stored-in-dictionary-in-python)  "
   ],
   "metadata": {}
  },
  {
   "cell_type": "markdown",
   "source": [
    "In the code cell below write a function that splits the IP address. Simply re-use the code that you produced earlier which split the list but now put it in a function. At this stage your function will take one argument which is a list and return one argument which is another list. Don't worry about converting to integers or converting the list to a tuple at this stage. Just take the list, split it on the '.' character, and return the list of strings. For the sake of easy reference later on in this section let's call this function IP_splitter."
   ],
   "metadata": {}
  },
  {
   "cell_type": "markdown",
   "source": [
    "(1 mark) -- 26"
   ],
   "metadata": {}
  },
  {
   "cell_type": "code",
   "execution_count": 290,
   "source": [],
   "outputs": [],
   "metadata": {}
  },
  {
   "cell_type": "markdown",
   "source": [
    "Before we go any further with this function let's just check what your IP_addresses list contains. Your IP_addresses list should contain the following IP addresses: '1.0.0.1',\n",
    " '1.1.1.1',\n",
    " '139.130.4.5',\n",
    " '198.153.192.1',\n",
    " '198.153.194.2',\n",
    " '205.210.42.205',\n",
    " '208.67.220.220',\n",
    " '208.67.222.222',\n",
    " '64.68.200.200',\n",
    " '8.8.4.4',\n",
    " '8.8.8.8'. Check that this is the case in the code cell below before we go any further. If you need to make any changes do so now in the code cell below - you can simply assign the appropriate list to IP_addresses here."
   ],
   "metadata": {}
  },
  {
   "cell_type": "markdown",
   "source": [
    "(0.5 marks) -- 26.5"
   ],
   "metadata": {}
  },
  {
   "cell_type": "code",
   "execution_count": 291,
   "source": [],
   "outputs": [
    {
     "output_type": "execute_result",
     "data": {
      "text/plain": [
       "['1.0.0.1',\n",
       " '1.1.1.1',\n",
       " '139.130.4.5',\n",
       " '198.153.192.1',\n",
       " '198.153.194.2',\n",
       " '205.210.42.205',\n",
       " '208.67.220.220',\n",
       " '208.67.222.222',\n",
       " '64.68.200.200',\n",
       " '8.8.4.4',\n",
       " '8.8.8.8']"
      ]
     },
     "metadata": {},
     "execution_count": 291
    }
   ],
   "metadata": {}
  },
  {
   "cell_type": "markdown",
   "source": [
    "Now, in the code cell below try out your function on the IP_address list. Go through each element of the IP_address list with whatever looping mechanism you like eg. a for loop. In the loop pass the element to your function and print the return value of the function. Printing the return value of the function while you are still in the loop is simply to ensure the function has worked as intended. "
   ],
   "metadata": {}
  },
  {
   "cell_type": "markdown",
   "source": [
    "(0.5 marks) -- 27"
   ],
   "metadata": {}
  },
  {
   "cell_type": "code",
   "execution_count": 292,
   "source": [],
   "outputs": [
    {
     "output_type": "stream",
     "name": "stdout",
     "text": [
      "['1', '0', '0', '1']\n",
      "['1', '1', '1', '1']\n",
      "['139', '130', '4', '5']\n",
      "['198', '153', '192', '1']\n",
      "['198', '153', '194', '2']\n",
      "['205', '210', '42', '205']\n",
      "['208', '67', '220', '220']\n",
      "['208', '67', '222', '222']\n",
      "['64', '68', '200', '200']\n",
      "['8', '8', '4', '4']\n",
      "['8', '8', '8', '8']\n"
     ]
    }
   ],
   "metadata": {}
  },
  {
   "cell_type": "markdown",
   "source": [
    "If you have anything other than 11 lines of IP addresses that have been split into a list of strings then have another look at your code. Remember to ensure that you are passing the correct list of IP_addresses.   "
   ],
   "metadata": {}
  },
  {
   "cell_type": "markdown",
   "source": [
    "Now that we have this part working let's write a function that takes the results of IP_splitter and changes each element of the list to an integer. You already wrote code that did this previously. Call this function to_int. This function will simply take a list of strings and return a list of integers."
   ],
   "metadata": {}
  },
  {
   "cell_type": "markdown",
   "source": [
    "(1.5 marks) -- 28.5"
   ],
   "metadata": {}
  },
  {
   "cell_type": "code",
   "execution_count": 293,
   "source": [],
   "outputs": [],
   "metadata": {}
  },
  {
   "cell_type": "markdown",
   "source": [
    "In the code below verify that your to_int function works by passing a single test IP address list to it eg. '1', '0', '0', '1'. Print the result to screen to ensure it has worked."
   ],
   "metadata": {}
  },
  {
   "cell_type": "markdown",
   "source": [
    "(0.5 marks) -- 29"
   ],
   "metadata": {}
  },
  {
   "cell_type": "code",
   "execution_count": 294,
   "source": [],
   "outputs": [
    {
     "output_type": "stream",
     "name": "stdout",
     "text": [
      "[1, 0, 0, 1]\n"
     ]
    }
   ],
   "metadata": {}
  },
  {
   "cell_type": "markdown",
   "source": [
    "So far we have two functions: one that splits the IP_address on the '.' character and one that converts each individual part of an IP address to an integer. We have one last ting we have to do which is to change our IP_address to a tuple rather than a list. Write another function to_tuple that does this. "
   ],
   "metadata": {}
  },
  {
   "cell_type": "markdown",
   "source": [
    "(1 mark) -- 30"
   ],
   "metadata": {}
  },
  {
   "cell_type": "code",
   "execution_count": 295,
   "source": [],
   "outputs": [],
   "metadata": {}
  },
  {
   "cell_type": "markdown",
   "source": [
    "The following IP address is to be used for test purposes."
   ],
   "metadata": {}
  },
  {
   "cell_type": "code",
   "execution_count": 296,
   "source": [
    "test_IP_address = [5, 5, 5, 5]"
   ],
   "outputs": [],
   "metadata": {}
  },
  {
   "cell_type": "markdown",
   "source": [
    "Use the test_IP_address above to test your to_tuple function. Make sure you check the datatype before the function and after the function by printing to screen."
   ],
   "metadata": {}
  },
  {
   "cell_type": "markdown",
   "source": [
    "(0.5 marks) -- 30.5"
   ],
   "metadata": {}
  },
  {
   "cell_type": "code",
   "execution_count": 297,
   "source": [],
   "outputs": [
    {
     "output_type": "stream",
     "name": "stdout",
     "text": [
      "Before function\n",
      "<class 'list'>\n",
      "After function\n",
      "<class 'tuple'>\n"
     ]
    }
   ],
   "metadata": {}
  },
  {
   "cell_type": "markdown",
   "source": [
    "Now we have all three functions let's put them all together. Let's write a small section of code that relies on the IP_splitter function, the to_int function and the to_tuple function. This is very similar to what you did in previously when you looped through each element of the IP_addresses list and passed it to the IP_splitter function. This time however, you are going to loop through each element of the IP_addresses list, pass it to the IP_splitter function and then pass the result of that IP_splitter function to the to_int function and then pass the result of the to_int function to the to_tuple function. While you are in the loop make sure that you print out the result of each step just so that you can confirm things are working as they should. At this stage don't worry about changing the actual IP_addresses list. We simply want to check that our functions work together and get our loop going.\n",
    "\n"
   ],
   "metadata": {}
  },
  {
   "cell_type": "markdown",
   "source": [
    "(1 mark) -- 31.5"
   ],
   "metadata": {}
  },
  {
   "cell_type": "code",
   "execution_count": 298,
   "source": [],
   "outputs": [
    {
     "output_type": "stream",
     "name": "stdout",
     "text": [
      "['1', '0', '0', '1']\n",
      "[1, 0, 0, 1]\n",
      "(1, 0, 0, 1)\n",
      "['1', '1', '1', '1']\n",
      "[1, 1, 1, 1]\n",
      "(1, 1, 1, 1)\n",
      "['139', '130', '4', '5']\n",
      "[139, 130, 4, 5]\n",
      "(139, 130, 4, 5)\n",
      "['198', '153', '192', '1']\n",
      "[198, 153, 192, 1]\n",
      "(198, 153, 192, 1)\n",
      "['198', '153', '194', '2']\n",
      "[198, 153, 194, 2]\n",
      "(198, 153, 194, 2)\n",
      "['205', '210', '42', '205']\n",
      "[205, 210, 42, 205]\n",
      "(205, 210, 42, 205)\n",
      "['208', '67', '220', '220']\n",
      "[208, 67, 220, 220]\n",
      "(208, 67, 220, 220)\n",
      "['208', '67', '222', '222']\n",
      "[208, 67, 222, 222]\n",
      "(208, 67, 222, 222)\n",
      "['64', '68', '200', '200']\n",
      "[64, 68, 200, 200]\n",
      "(64, 68, 200, 200)\n",
      "['8', '8', '4', '4']\n",
      "[8, 8, 4, 4]\n",
      "(8, 8, 4, 4)\n",
      "['8', '8', '8', '8']\n",
      "[8, 8, 8, 8]\n",
      "(8, 8, 8, 8)\n"
     ]
    }
   ],
   "metadata": {}
  },
  {
   "cell_type": "markdown",
   "source": [
    "You should be able to confirm in the above that all of your functions are working as intended. "
   ],
   "metadata": {}
  },
  {
   "cell_type": "markdown",
   "source": [
    "In the code cell below print out your IP_addresses list to check the contents. "
   ],
   "metadata": {}
  },
  {
   "cell_type": "markdown",
   "source": [
    "(0.5 marks) -- 32"
   ],
   "metadata": {}
  },
  {
   "cell_type": "code",
   "execution_count": 299,
   "source": [],
   "outputs": [
    {
     "output_type": "stream",
     "name": "stdout",
     "text": [
      "['1.0.0.1', '1.1.1.1', '139.130.4.5', '198.153.192.1', '198.153.194.2', '205.210.42.205', '208.67.220.220', '208.67.222.222', '64.68.200.200', '8.8.4.4', '8.8.8.8']\n"
     ]
    }
   ],
   "metadata": {}
  },
  {
   "cell_type": "markdown",
   "source": [
    "If you didn't worry about changing the IP_addresses list in the loop you just completed then your IP_addresses list will be unchanged. We are going to address this now by using enumerate to loop through our IP_addresses list and change each element of that list as we go. In the code cell below call your relevant functions but this time make sure to change each element of the IP_addresses list as you go so that each element will be stored as a tuple of ints. You can take out your print statements now that you know everything works as intended."
   ],
   "metadata": {}
  },
  {
   "cell_type": "markdown",
   "source": [
    "(0.5 marks) -- 32.5"
   ],
   "metadata": {}
  },
  {
   "cell_type": "code",
   "execution_count": 300,
   "source": [
    "\n"
   ],
   "outputs": [],
   "metadata": {}
  },
  {
   "cell_type": "markdown",
   "source": [
    "Now print out your IP_addresses to see if it has changed."
   ],
   "metadata": {}
  },
  {
   "cell_type": "markdown",
   "source": [
    "(0.5 marks) -- 33"
   ],
   "metadata": {}
  },
  {
   "cell_type": "code",
   "execution_count": 301,
   "source": [],
   "outputs": [
    {
     "output_type": "stream",
     "name": "stdout",
     "text": [
      "[(1, 0, 0, 1), (1, 1, 1, 1), (139, 130, 4, 5), (198, 153, 192, 1), (198, 153, 194, 2), (205, 210, 42, 205), (208, 67, 220, 220), (208, 67, 222, 222), (64, 68, 200, 200), (8, 8, 4, 4), (8, 8, 8, 8)]\n"
     ]
    }
   ],
   "metadata": {}
  },
  {
   "cell_type": "markdown",
   "source": [
    "You should see in the above a list of tuples. We are almost there..."
   ],
   "metadata": {}
  },
  {
   "cell_type": "markdown",
   "source": [
    "Let's try a simple default sort method (no parameters) on our IP_addresses list and see if we are any closer to our goal of sorting IP addresses."
   ],
   "metadata": {}
  },
  {
   "cell_type": "markdown",
   "source": [
    "(0.5 marks) -- 33.5"
   ],
   "metadata": {}
  },
  {
   "cell_type": "code",
   "execution_count": 302,
   "source": [],
   "outputs": [
    {
     "output_type": "execute_result",
     "data": {
      "text/plain": [
       "[(1, 0, 0, 1),\n",
       " (1, 1, 1, 1),\n",
       " (8, 8, 4, 4),\n",
       " (8, 8, 8, 8),\n",
       " (64, 68, 200, 200),\n",
       " (139, 130, 4, 5),\n",
       " (198, 153, 192, 1),\n",
       " (198, 153, 194, 2),\n",
       " (205, 210, 42, 205),\n",
       " (208, 67, 220, 220),\n",
       " (208, 67, 222, 222)]"
      ]
     },
     "metadata": {},
     "execution_count": 302
    }
   ],
   "metadata": {}
  },
  {
   "cell_type": "markdown",
   "source": [
    "So far so good. But is that really it? It seems that we are done but before we congratulate ourselves we might want to take a look at the documentation (see: https://docs.python.org/3/howto/sorting.html) to see how the default sort() actually works. From the documentation it's not entirely clear what the default behaviour of sort() is when we have a list of lists. How is it really sorting our tuples? Is it only sorting on the first element of the nested tuple and then finishing or is it going through the first element, then the second element and so on? With our particular list of tuples in the format that they are, it is difficult to tell. Additionally, we know from the documentation that when there is a list of lists - they don't show any tuples here - they are stipulating on which key to sort - the first or second element and so on. So this should lead us to question what is really happening here. Let's dig a little further with our own example and make sure we are on the right track. "
   ],
   "metadata": {}
  },
  {
   "cell_type": "markdown",
   "source": [
    "In order to figure out what is going on with the sort() function we are going to change our list of tuples so we can see the behaviour of sort more clearly. Let's start with the following IP_address."
   ],
   "metadata": {}
  },
  {
   "cell_type": "code",
   "execution_count": 303,
   "source": [
    "another_IP_address = (208, 67, 221, 220)"
   ],
   "outputs": [],
   "metadata": {}
  },
  {
   "cell_type": "markdown",
   "source": [
    "Now simply append this IP address to the end of our IP_addresses list. Print it to the screen so that you know your append has worked."
   ],
   "metadata": {}
  },
  {
   "cell_type": "markdown",
   "source": [
    "(0.5 marks) -- 34"
   ],
   "metadata": {}
  },
  {
   "cell_type": "code",
   "execution_count": 304,
   "source": [],
   "outputs": [
    {
     "output_type": "stream",
     "name": "stdout",
     "text": [
      "[(1, 0, 0, 1), (1, 1, 1, 1), (8, 8, 4, 4), (8, 8, 8, 8), (64, 68, 200, 200), (139, 130, 4, 5), (198, 153, 192, 1), (198, 153, 194, 2), (205, 210, 42, 205), (208, 67, 220, 220), (208, 67, 222, 222), (208, 67, 221, 220)]\n"
     ]
    }
   ],
   "metadata": {}
  },
  {
   "cell_type": "markdown",
   "source": [
    "So now you should see another_IP_address: 208, 67, 221, 220 appearing at the end of the IP_addresses list. Before we apply the sort let's think about what behaviour we are expecting. If sort() works on only the first element of the nested list then have a think about where it would appear in the sorted list. Remember that (as the documentation states) sort() is guaranteed to be stable which means the original ordering is guaranteed. This means that if it only sorted on the first element then another_IP_address will simply stay in last place. Apply the sort() now and see what happens."
   ],
   "metadata": {}
  },
  {
   "cell_type": "markdown",
   "source": [
    "(0.5 marks) -- 34.5"
   ],
   "metadata": {}
  },
  {
   "cell_type": "code",
   "execution_count": 305,
   "source": [],
   "outputs": [
    {
     "output_type": "execute_result",
     "data": {
      "text/plain": [
       "[(1, 0, 0, 1),\n",
       " (1, 1, 1, 1),\n",
       " (8, 8, 4, 4),\n",
       " (8, 8, 8, 8),\n",
       " (64, 68, 200, 200),\n",
       " (139, 130, 4, 5),\n",
       " (198, 153, 192, 1),\n",
       " (198, 153, 194, 2),\n",
       " (205, 210, 42, 205),\n",
       " (208, 67, 220, 220),\n",
       " (208, 67, 221, 220),\n",
       " (208, 67, 222, 222)]"
      ]
     },
     "metadata": {},
     "execution_count": 305
    }
   ],
   "metadata": {}
  },
  {
   "cell_type": "markdown",
   "source": [
    "We see in the above that another_IP_address has been put into it's correct position. We now know that sort() doesn't simply sort on the first element of the nested list. It sorts on at least the first and third elements of our nested tuples. This isn't enough to guarantee that sort() works in exactly the way we think it does and will satisfy our criteria for sorting IP_addresses. However, we are on the right track and we would only need to do a couple more tests to be sure. Do this as an exercise now by testing to see if it works on the second and fourth elements of the IP address. You can do this in two steps or one step like we did above. Do that in the code cell below:"
   ],
   "metadata": {}
  },
  {
   "cell_type": "markdown",
   "source": [
    "(2 marks) -- 36.5"
   ],
   "metadata": {}
  },
  {
   "cell_type": "code",
   "execution_count": null,
   "source": [],
   "outputs": [],
   "metadata": {}
  },
  {
   "cell_type": "markdown",
   "source": [
    "Now through our testing we are confident that the sort() function is fit for purpose and we have achieved our goal of sorting IP addresses. Our code will be similar to the post on stackoverflow but certainly not the same. For someone reading code it is also likely that it is easier to understand what is going on - particularly for a newcomer or those who are a bit rusty on their coding. Depending on your experience level putting some of these steps into a dedicated function is overkill which is hard to disagree with. However, as an exercise hopefully we've got the hang of functions and how they improve organisation and re-use. This is the point of functions and this section. "
   ],
   "metadata": {}
  },
  {
   "cell_type": "markdown",
   "source": [
    "Now that we have finished lets remove those addresses that we put here for testing purposes (ie. another_IP_address and any other addresses you added in the previous code cell. Do this in the code below and again print the IP_addresses list to the screen to make sure you have removed them."
   ],
   "metadata": {}
  },
  {
   "cell_type": "markdown",
   "source": [
    "(0.5 marks) -- 37"
   ],
   "metadata": {}
  },
  {
   "cell_type": "code",
   "execution_count": 306,
   "source": [],
   "outputs": [
    {
     "output_type": "execute_result",
     "data": {
      "text/plain": [
       "[(1, 0, 0, 1),\n",
       " (1, 1, 1, 1),\n",
       " (8, 8, 4, 4),\n",
       " (8, 8, 8, 8),\n",
       " (64, 68, 200, 200),\n",
       " (139, 130, 4, 5),\n",
       " (198, 153, 192, 1),\n",
       " (198, 153, 194, 2),\n",
       " (205, 210, 42, 205),\n",
       " (208, 67, 220, 220),\n",
       " (208, 67, 222, 222)]"
      ]
     },
     "metadata": {},
     "execution_count": 306
    }
   ],
   "metadata": {}
  },
  {
   "cell_type": "markdown",
   "source": [
    "## 3. NumPy Basics ##"
   ],
   "metadata": {}
  },
  {
   "cell_type": "markdown",
   "source": [
    "In this section we are going to follow along with a similar format to the Official NumPy documentation see: https://numpy.org/doc/stable/user/absolute_beginners.html. We are also going to continue along using our familiar example of IP addresses that we used in the previous sections. Storing IP addresses as a NumPy array makes sense in a way - the construct of many IP addresses together is essentially a construct of an nd-array - a multi-dimensional array of homogenous data. For those who are interested see Tom Augspurger's post (https://tomaugspurger.github.io/pandas-extension-arrays.html) for a practical scenario of using NumPy with IP addresses. Don't worry if the reading sounds a little advanced just note at this stage that NumPy is used to store IP addresses but that in order to cater for the complexity of a real-world situation a degree of coding 'trickery' had to be introduced."
   ],
   "metadata": {}
  },
  {
   "cell_type": "markdown",
   "source": [
    "As explained in the NumPy documentation one way of initialising NumPy arrays is from Python lists. Let's do this now with our IP_addresses list that we had earlier. Remember that to access NumPy and it's functions you will have to import it first. Print it to the screen so that you know what it has worked."
   ],
   "metadata": {}
  },
  {
   "cell_type": "markdown",
   "source": [
    "(1 mark) -- 38"
   ],
   "metadata": {}
  },
  {
   "cell_type": "code",
   "execution_count": 307,
   "source": [],
   "outputs": [
    {
     "output_type": "execute_result",
     "data": {
      "text/plain": [
       "array([[  1,   0,   0,   1],\n",
       "       [  1,   1,   1,   1],\n",
       "       [  8,   8,   4,   4],\n",
       "       [  8,   8,   8,   8],\n",
       "       [ 64,  68, 200, 200],\n",
       "       [139, 130,   4,   5],\n",
       "       [198, 153, 192,   1],\n",
       "       [198, 153, 194,   2],\n",
       "       [205, 210,  42, 205],\n",
       "       [208,  67, 220, 220],\n",
       "       [208,  67, 222, 222]])"
      ]
     },
     "metadata": {},
     "execution_count": 307
    }
   ],
   "metadata": {}
  },
  {
   "cell_type": "markdown",
   "source": [
    "Now that we've created our numpy array let's just check its data type. Remember Python keeps track of all these details internally so, if for some reason we are unsure of the data type we can always request this information from Python. Do so now in the code below."
   ],
   "metadata": {}
  },
  {
   "cell_type": "markdown",
   "source": [
    "(0.5 marks) 38.5"
   ],
   "metadata": {}
  },
  {
   "cell_type": "code",
   "execution_count": 308,
   "source": [],
   "outputs": [
    {
     "output_type": "execute_result",
     "data": {
      "text/plain": [
       "numpy.ndarray"
      ]
     },
     "metadata": {},
     "execution_count": 308
    }
   ],
   "metadata": {}
  },
  {
   "cell_type": "markdown",
   "source": [
    "If you received anything other than the information numpy.ndarray then go back and check your code."
   ],
   "metadata": {}
  },
  {
   "cell_type": "markdown",
   "source": [
    "In the following cell confirm the dimension of our numpy array."
   ],
   "metadata": {}
  },
  {
   "cell_type": "markdown",
   "source": [
    "(0.5 marks) -- 39"
   ],
   "metadata": {}
  },
  {
   "cell_type": "code",
   "execution_count": 309,
   "source": [],
   "outputs": [
    {
     "output_type": "execute_result",
     "data": {
      "text/plain": [
       "(11, 4)"
      ]
     },
     "metadata": {},
     "execution_count": 309
    }
   ],
   "metadata": {}
  },
  {
   "cell_type": "markdown",
   "source": [
    "In the above you should get back the following information (11, 4). If this isn't what you've got go back and check your code. The format (11, 4) tells you that - in standard table and matrix parlance - we have 11 rows and 4 columns. "
   ],
   "metadata": {}
  },
  {
   "cell_type": "markdown",
   "source": [
    "In the cell below check how many axes you have."
   ],
   "metadata": {}
  },
  {
   "cell_type": "markdown",
   "source": [
    "(0.5 marks) -- 39.5"
   ],
   "metadata": {}
  },
  {
   "cell_type": "code",
   "execution_count": 310,
   "source": [],
   "outputs": [
    {
     "output_type": "execute_result",
     "data": {
      "text/plain": [
       "2"
      ]
     },
     "metadata": {},
     "execution_count": 310
    }
   ],
   "metadata": {}
  },
  {
   "cell_type": "markdown",
   "source": [
    "Now that we know the dimensions and exact shape of our nd array let's find out what datatype it has stored within it"
   ],
   "metadata": {}
  },
  {
   "cell_type": "markdown",
   "source": [
    "(0.5 marks) -- 40"
   ],
   "metadata": {}
  },
  {
   "cell_type": "code",
   "execution_count": 311,
   "source": [],
   "outputs": [
    {
     "output_type": "execute_result",
     "data": {
      "text/plain": [
       "dtype('int64')"
      ]
     },
     "metadata": {},
     "execution_count": 311
    }
   ],
   "metadata": {}
  },
  {
   "cell_type": "markdown",
   "source": [
    "You should have an integer type. If not something has gone awry. Go back and check your code. "
   ],
   "metadata": {}
  },
  {
   "cell_type": "markdown",
   "source": [
    "If you have followed along properly with the steps your numpy array will be in fully sorted order. However, as an exercise let's sort our numpy array on axis-0 the axis that runs down the rows (it is the columns) and put that new copied array into a new variable. Output the variable to screen so that you know it has worked."
   ],
   "metadata": {}
  },
  {
   "cell_type": "markdown",
   "source": [
    "(1 mark) -- 41"
   ],
   "metadata": {}
  },
  {
   "cell_type": "code",
   "execution_count": 312,
   "source": [],
   "outputs": [
    {
     "output_type": "execute_result",
     "data": {
      "text/plain": [
       "array([[  1,   0,   0,   1],\n",
       "       [  1,   1,   1,   1],\n",
       "       [  8,   8,   4,   1],\n",
       "       [  8,   8,   4,   2],\n",
       "       [ 64,  67,   8,   4],\n",
       "       [139,  67,  42,   5],\n",
       "       [198,  68, 192,   8],\n",
       "       [198, 130, 194, 200],\n",
       "       [205, 153, 200, 205],\n",
       "       [208, 153, 220, 220],\n",
       "       [208, 210, 222, 222]])"
      ]
     },
     "metadata": {},
     "execution_count": 312
    }
   ],
   "metadata": {}
  },
  {
   "cell_type": "markdown",
   "source": [
    "Note in the above that our IP addresses themselves are not preserved. The effect of sorting on the columns is to take all the values in each of the columns and sort them into ascending order. However, what if we wanted to preserve the IP addresses similar as tuples but still use the NumPy array format? How can we do so? One way to do so is by using the order keyword. However, the order keyword will only work if our numpy array has been defined with fields (see the documentation: https://numpy.org/doc/stable/reference/generated/numpy.sort.html#numpy.sort). Note: there are many ways you can create a structured array. However, for this particular exercise try following the second example in the official docs if you aren't too sure. Firstly, create a variable called 'dtype' (this just follows the sytax of the example) which will define a list of tuples. There will be four tuples each representing the four different parts of the IP address. You can call these 'oct1', 'oct2' and so on (or something else that makes sense to you). All of these will have an integer type. Secondly, create a variable called 'values' (or again something else that makes sense to you) and assign IP_addresses which was the list of IP addresses as tuples that you created in the previous section to this variable. Thirdly, create your structured numpy array using the np.array method and pass the appropriate parameters as they do in the second example of the official docs. Finally, make sure you output your new NumPy array to the screen so you can see whether it has worked as expected."
   ],
   "metadata": {}
  },
  {
   "cell_type": "markdown",
   "source": [
    "(2 marks) - 43"
   ],
   "metadata": {}
  },
  {
   "cell_type": "code",
   "execution_count": 313,
   "source": [],
   "outputs": [
    {
     "output_type": "execute_result",
     "data": {
      "text/plain": [
       "array([(  1,   0,   0,   1), (  1,   1,   1,   1), (  8,   8,   4,   4),\n",
       "       (  8,   8,   8,   8), ( 64,  68, 200, 200), (139, 130,   4,   5),\n",
       "       (198, 153, 192,   1), (198, 153, 194,   2), (205, 210,  42, 205),\n",
       "       (208,  67, 220, 220), (208,  67, 222, 222)],\n",
       "      dtype=[('oct1', '<i8'), ('oct2', '<i8'), ('oct3', '<i8'), ('oct4', '<i8')])"
      ]
     },
     "metadata": {},
     "execution_count": 313
    }
   ],
   "metadata": {}
  },
  {
   "cell_type": "markdown",
   "source": [
    "In the above you should be able to check the data and the datatypes. You should notice something almost immediately about this NumPy array that is different from the previous one you created. Notice how in this NumPy array when you define your array with fields you are creating a structured array. See https://numpy.org/doc/stable/user/basics.rec.html for more detailed explanation of structured arrays. Creating our NumPy array as a structured array stores the IP addresses as tuples - and remember tuples cannot be changed no matter what we do. It is this structured array that will allow us to sort while preserving the integrity of the IP address structure.  "
   ],
   "metadata": {}
  },
  {
   "cell_type": "markdown",
   "source": [
    "In the below code cell let's now apply our sort. Let's do a sort on the last part/octet of the IP address and store those results in a new NumPy array. Output the results of that array to the screen (simply type the name of your variable) so that you can check what it looks like."
   ],
   "metadata": {}
  },
  {
   "cell_type": "markdown",
   "source": [
    "(1 mark) -- 44"
   ],
   "metadata": {}
  },
  {
   "cell_type": "code",
   "execution_count": 314,
   "source": [],
   "outputs": [
    {
     "output_type": "execute_result",
     "data": {
      "text/plain": [
       "array([(  1,   0,   0,   1), (  1,   1,   1,   1), (198, 153, 192,   1),\n",
       "       (198, 153, 194,   2), (  8,   8,   4,   4), (139, 130,   4,   5),\n",
       "       (  8,   8,   8,   8), ( 64,  68, 200, 200), (205, 210,  42, 205),\n",
       "       (208,  67, 220, 220), (208,  67, 222, 222)],\n",
       "      dtype=[('oct1', '<i8'), ('oct2', '<i8'), ('oct3', '<i8'), ('oct4', '<i8')])"
      ]
     },
     "metadata": {},
     "execution_count": 314
    }
   ],
   "metadata": {}
  },
  {
   "cell_type": "markdown",
   "source": [
    "Simply outputting the variable to the screen allows us to check the details of the new variable. In the above you can see that our field names are preserved. Note how how it would have been very easy to start off with a list of unsorted IP_addresses and get them sorted very quickly - particularly if we started out by defining our NumPy array with fields and thus creating a structured array.  "
   ],
   "metadata": {}
  },
  {
   "cell_type": "markdown",
   "source": [
    "After completing this section you may be wondering what all the fuss is about in relation to Pandas. Can't we just use structured arrays in NumPy for tabular data rather than the Pandas DataFrame for example? Well, as we have proved in the above section we see certainly can do so. However, as the documentation (see https://numpy.org/doc/stable/user/basics.rec.html) points out there are many reasons why we wouldn't - the least of the reasons being a syntax which is rather unwieldy. This leads us quite naturally to our next section on Pandas. "
   ],
   "metadata": {}
  },
  {
   "cell_type": "markdown",
   "source": [
    "## 4. Pandas Basics ##"
   ],
   "metadata": {}
  },
  {
   "cell_type": "markdown",
   "source": [
    "In this section we are going to continue with our IP address example. There wouldn't be many situations where you would have a tabular form of IP addresses. However, for the purposes of illustration and to contrast a Pandas dataframe with a NumPy structured array we will do so. "
   ],
   "metadata": {}
  },
  {
   "cell_type": "markdown",
   "source": [
    "In the code cell below create a new dataframe called IP_address_df. As the arguments to the DataFrame method simply pass the list IP_addresses and set the parameter columns equal to 'oct 1', 'oct 2', 'oct 3', 'oct 4' which represents each of the octets of the IP address. See the docs for details on parameters for creating a DataFrame (if needed) https://pandas.pydata.org/docs/reference/api/pandas.DataFrame.html. Remember you will have to import pandas appropriately in order to use it just as we did with numpy. "
   ],
   "metadata": {}
  },
  {
   "cell_type": "markdown",
   "source": [
    "(1 mark) -- 45"
   ],
   "metadata": {}
  },
  {
   "cell_type": "code",
   "execution_count": 319,
   "source": [],
   "outputs": [],
   "metadata": {}
  },
  {
   "cell_type": "markdown",
   "source": [
    "Now output the dataframe to the screen."
   ],
   "metadata": {}
  },
  {
   "cell_type": "markdown",
   "source": [
    "(0.5 marks) -- 45.5"
   ],
   "metadata": {}
  },
  {
   "cell_type": "code",
   "execution_count": 320,
   "source": [],
   "outputs": [
    {
     "output_type": "execute_result",
     "data": {
      "text/plain": [
       "    oct 1  oct 2  oct 3  oct 4\n",
       "0       1      0      0      1\n",
       "1       1      1      1      1\n",
       "2       8      8      4      4\n",
       "3       8      8      8      8\n",
       "4      64     68    200    200\n",
       "5     139    130      4      5\n",
       "6     198    153    192      1\n",
       "7     198    153    194      2\n",
       "8     205    210     42    205\n",
       "9     208     67    220    220\n",
       "10    208     67    222    222"
      ],
      "text/html": [
       "<div>\n",
       "<style scoped>\n",
       "    .dataframe tbody tr th:only-of-type {\n",
       "        vertical-align: middle;\n",
       "    }\n",
       "\n",
       "    .dataframe tbody tr th {\n",
       "        vertical-align: top;\n",
       "    }\n",
       "\n",
       "    .dataframe thead th {\n",
       "        text-align: right;\n",
       "    }\n",
       "</style>\n",
       "<table border=\"1\" class=\"dataframe\">\n",
       "  <thead>\n",
       "    <tr style=\"text-align: right;\">\n",
       "      <th></th>\n",
       "      <th>oct 1</th>\n",
       "      <th>oct 2</th>\n",
       "      <th>oct 3</th>\n",
       "      <th>oct 4</th>\n",
       "    </tr>\n",
       "  </thead>\n",
       "  <tbody>\n",
       "    <tr>\n",
       "      <th>0</th>\n",
       "      <td>1</td>\n",
       "      <td>0</td>\n",
       "      <td>0</td>\n",
       "      <td>1</td>\n",
       "    </tr>\n",
       "    <tr>\n",
       "      <th>1</th>\n",
       "      <td>1</td>\n",
       "      <td>1</td>\n",
       "      <td>1</td>\n",
       "      <td>1</td>\n",
       "    </tr>\n",
       "    <tr>\n",
       "      <th>2</th>\n",
       "      <td>8</td>\n",
       "      <td>8</td>\n",
       "      <td>4</td>\n",
       "      <td>4</td>\n",
       "    </tr>\n",
       "    <tr>\n",
       "      <th>3</th>\n",
       "      <td>8</td>\n",
       "      <td>8</td>\n",
       "      <td>8</td>\n",
       "      <td>8</td>\n",
       "    </tr>\n",
       "    <tr>\n",
       "      <th>4</th>\n",
       "      <td>64</td>\n",
       "      <td>68</td>\n",
       "      <td>200</td>\n",
       "      <td>200</td>\n",
       "    </tr>\n",
       "    <tr>\n",
       "      <th>5</th>\n",
       "      <td>139</td>\n",
       "      <td>130</td>\n",
       "      <td>4</td>\n",
       "      <td>5</td>\n",
       "    </tr>\n",
       "    <tr>\n",
       "      <th>6</th>\n",
       "      <td>198</td>\n",
       "      <td>153</td>\n",
       "      <td>192</td>\n",
       "      <td>1</td>\n",
       "    </tr>\n",
       "    <tr>\n",
       "      <th>7</th>\n",
       "      <td>198</td>\n",
       "      <td>153</td>\n",
       "      <td>194</td>\n",
       "      <td>2</td>\n",
       "    </tr>\n",
       "    <tr>\n",
       "      <th>8</th>\n",
       "      <td>205</td>\n",
       "      <td>210</td>\n",
       "      <td>42</td>\n",
       "      <td>205</td>\n",
       "    </tr>\n",
       "    <tr>\n",
       "      <th>9</th>\n",
       "      <td>208</td>\n",
       "      <td>67</td>\n",
       "      <td>220</td>\n",
       "      <td>220</td>\n",
       "    </tr>\n",
       "    <tr>\n",
       "      <th>10</th>\n",
       "      <td>208</td>\n",
       "      <td>67</td>\n",
       "      <td>222</td>\n",
       "      <td>222</td>\n",
       "    </tr>\n",
       "  </tbody>\n",
       "</table>\n",
       "</div>"
      ]
     },
     "metadata": {},
     "execution_count": 320
    }
   ],
   "metadata": {}
  },
  {
   "cell_type": "markdown",
   "source": [
    "In the above you should see a tabular form of data that represents your IP addresses. Note that because we didn't supply an index parameter pandas has created a default integer index for us. "
   ],
   "metadata": {}
  },
  {
   "cell_type": "markdown",
   "source": [
    "Let's check the datatypes of our variable IP_address_df in the code cell below. Remember you can always query Python to check the type of a variable."
   ],
   "metadata": {}
  },
  {
   "cell_type": "markdown",
   "source": [
    "(0.5 marks) -- 46"
   ],
   "metadata": {}
  },
  {
   "cell_type": "code",
   "execution_count": 321,
   "source": [],
   "outputs": [
    {
     "output_type": "execute_result",
     "data": {
      "text/plain": [
       "pandas.core.frame.DataFrame"
      ]
     },
     "metadata": {},
     "execution_count": 321
    }
   ],
   "metadata": {}
  },
  {
   "cell_type": "markdown",
   "source": [
    "If you have anything other than an output of pandas.core.frame.DataFrame output to the screen then go back and check how you created your dataframe. Something has gone awry here."
   ],
   "metadata": {}
  },
  {
   "cell_type": "markdown",
   "source": [
    "Now that we've checked the type of our variable, which we have confirmed is a DataFrame, let's check the types of the columns using the dtypes method in the code cell below. "
   ],
   "metadata": {}
  },
  {
   "cell_type": "markdown",
   "source": [
    "(0.5 marks) -- 46.5"
   ],
   "metadata": {}
  },
  {
   "cell_type": "code",
   "execution_count": 322,
   "source": [],
   "outputs": [
    {
     "output_type": "execute_result",
     "data": {
      "text/plain": [
       "oct 1    int64\n",
       "oct 2    int64\n",
       "oct 3    int64\n",
       "oct 4    int64\n",
       "dtype: object"
      ]
     },
     "metadata": {},
     "execution_count": 322
    }
   ],
   "metadata": {}
  },
  {
   "cell_type": "markdown",
   "source": [
    "In the above you should have each of the column names and their data types which should all be integer types."
   ],
   "metadata": {}
  },
  {
   "cell_type": "markdown",
   "source": [
    "Let's have a quick look at the first listings of our data in our dataframe in the code cell below. Hint, just use the head method with no parameters."
   ],
   "metadata": {}
  },
  {
   "cell_type": "markdown",
   "source": [
    "(0.5 marks) -- 47"
   ],
   "metadata": {}
  },
  {
   "cell_type": "code",
   "execution_count": 323,
   "source": [],
   "outputs": [
    {
     "output_type": "execute_result",
     "data": {
      "text/plain": [
       "   oct 1  oct 2  oct 3  oct 4\n",
       "0      1      0      0      1\n",
       "1      1      1      1      1\n",
       "2      8      8      4      4\n",
       "3      8      8      8      8\n",
       "4     64     68    200    200"
      ],
      "text/html": [
       "<div>\n",
       "<style scoped>\n",
       "    .dataframe tbody tr th:only-of-type {\n",
       "        vertical-align: middle;\n",
       "    }\n",
       "\n",
       "    .dataframe tbody tr th {\n",
       "        vertical-align: top;\n",
       "    }\n",
       "\n",
       "    .dataframe thead th {\n",
       "        text-align: right;\n",
       "    }\n",
       "</style>\n",
       "<table border=\"1\" class=\"dataframe\">\n",
       "  <thead>\n",
       "    <tr style=\"text-align: right;\">\n",
       "      <th></th>\n",
       "      <th>oct 1</th>\n",
       "      <th>oct 2</th>\n",
       "      <th>oct 3</th>\n",
       "      <th>oct 4</th>\n",
       "    </tr>\n",
       "  </thead>\n",
       "  <tbody>\n",
       "    <tr>\n",
       "      <th>0</th>\n",
       "      <td>1</td>\n",
       "      <td>0</td>\n",
       "      <td>0</td>\n",
       "      <td>1</td>\n",
       "    </tr>\n",
       "    <tr>\n",
       "      <th>1</th>\n",
       "      <td>1</td>\n",
       "      <td>1</td>\n",
       "      <td>1</td>\n",
       "      <td>1</td>\n",
       "    </tr>\n",
       "    <tr>\n",
       "      <th>2</th>\n",
       "      <td>8</td>\n",
       "      <td>8</td>\n",
       "      <td>4</td>\n",
       "      <td>4</td>\n",
       "    </tr>\n",
       "    <tr>\n",
       "      <th>3</th>\n",
       "      <td>8</td>\n",
       "      <td>8</td>\n",
       "      <td>8</td>\n",
       "      <td>8</td>\n",
       "    </tr>\n",
       "    <tr>\n",
       "      <th>4</th>\n",
       "      <td>64</td>\n",
       "      <td>68</td>\n",
       "      <td>200</td>\n",
       "      <td>200</td>\n",
       "    </tr>\n",
       "  </tbody>\n",
       "</table>\n",
       "</div>"
      ]
     },
     "metadata": {},
     "execution_count": 323
    }
   ],
   "metadata": {}
  },
  {
   "cell_type": "markdown",
   "source": [
    "And now look at the last listings of our data in the code cell below."
   ],
   "metadata": {}
  },
  {
   "cell_type": "markdown",
   "source": [
    "(0.5 marks) -- 47.5"
   ],
   "metadata": {}
  },
  {
   "cell_type": "code",
   "execution_count": 324,
   "source": [],
   "outputs": [
    {
     "output_type": "execute_result",
     "data": {
      "text/plain": [
       "    oct 1  oct 2  oct 3  oct 4\n",
       "6     198    153    192      1\n",
       "7     198    153    194      2\n",
       "8     205    210     42    205\n",
       "9     208     67    220    220\n",
       "10    208     67    222    222"
      ],
      "text/html": [
       "<div>\n",
       "<style scoped>\n",
       "    .dataframe tbody tr th:only-of-type {\n",
       "        vertical-align: middle;\n",
       "    }\n",
       "\n",
       "    .dataframe tbody tr th {\n",
       "        vertical-align: top;\n",
       "    }\n",
       "\n",
       "    .dataframe thead th {\n",
       "        text-align: right;\n",
       "    }\n",
       "</style>\n",
       "<table border=\"1\" class=\"dataframe\">\n",
       "  <thead>\n",
       "    <tr style=\"text-align: right;\">\n",
       "      <th></th>\n",
       "      <th>oct 1</th>\n",
       "      <th>oct 2</th>\n",
       "      <th>oct 3</th>\n",
       "      <th>oct 4</th>\n",
       "    </tr>\n",
       "  </thead>\n",
       "  <tbody>\n",
       "    <tr>\n",
       "      <th>6</th>\n",
       "      <td>198</td>\n",
       "      <td>153</td>\n",
       "      <td>192</td>\n",
       "      <td>1</td>\n",
       "    </tr>\n",
       "    <tr>\n",
       "      <th>7</th>\n",
       "      <td>198</td>\n",
       "      <td>153</td>\n",
       "      <td>194</td>\n",
       "      <td>2</td>\n",
       "    </tr>\n",
       "    <tr>\n",
       "      <th>8</th>\n",
       "      <td>205</td>\n",
       "      <td>210</td>\n",
       "      <td>42</td>\n",
       "      <td>205</td>\n",
       "    </tr>\n",
       "    <tr>\n",
       "      <th>9</th>\n",
       "      <td>208</td>\n",
       "      <td>67</td>\n",
       "      <td>220</td>\n",
       "      <td>220</td>\n",
       "    </tr>\n",
       "    <tr>\n",
       "      <th>10</th>\n",
       "      <td>208</td>\n",
       "      <td>67</td>\n",
       "      <td>222</td>\n",
       "      <td>222</td>\n",
       "    </tr>\n",
       "  </tbody>\n",
       "</table>\n",
       "</div>"
      ]
     },
     "metadata": {},
     "execution_count": 324
    }
   ],
   "metadata": {}
  },
  {
   "cell_type": "markdown",
   "source": [
    "Note that at this stage we can convert back to a numpy array if we want and its not terribly expensive to do so. This is because we are only storing one data type at this stage - the integer. Go ahead and convert the dataframe to a numpy  just as they do in the 10 minutes to Pandas tutorial. Complete this in the code cell below."
   ],
   "metadata": {}
  },
  {
   "cell_type": "markdown",
   "source": [
    "(0.5 marks) -- 48"
   ],
   "metadata": {}
  },
  {
   "cell_type": "code",
   "execution_count": 325,
   "source": [],
   "outputs": [
    {
     "output_type": "execute_result",
     "data": {
      "text/plain": [
       "array([[  1,   0,   0,   1],\n",
       "       [  1,   1,   1,   1],\n",
       "       [  8,   8,   4,   4],\n",
       "       [  8,   8,   8,   8],\n",
       "       [ 64,  68, 200, 200],\n",
       "       [139, 130,   4,   5],\n",
       "       [198, 153, 192,   1],\n",
       "       [198, 153, 194,   2],\n",
       "       [205, 210,  42, 205],\n",
       "       [208,  67, 220, 220],\n",
       "       [208,  67, 222, 222]])"
      ]
     },
     "metadata": {},
     "execution_count": 325
    }
   ],
   "metadata": {}
  },
  {
   "cell_type": "markdown",
   "source": [
    "You will note a couple of things when you do this conversion. Firstly, the conversion is lightning quick. Secondly, we've lost some useful information such as our column names. We aren't getting a structured numpy array here. Let's just double check this. In the code cell below store the conversion you did above in a variable called conv_IP then output it to the screen. "
   ],
   "metadata": {}
  },
  {
   "cell_type": "markdown",
   "source": [
    "(0.5 marks) -- 48.5"
   ],
   "metadata": {}
  },
  {
   "cell_type": "code",
   "execution_count": 326,
   "source": [],
   "outputs": [
    {
     "output_type": "execute_result",
     "data": {
      "text/plain": [
       "array([[  1,   0,   0,   1],\n",
       "       [  1,   1,   1,   1],\n",
       "       [  8,   8,   4,   4],\n",
       "       [  8,   8,   8,   8],\n",
       "       [ 64,  68, 200, 200],\n",
       "       [139, 130,   4,   5],\n",
       "       [198, 153, 192,   1],\n",
       "       [198, 153, 194,   2],\n",
       "       [205, 210,  42, 205],\n",
       "       [208,  67, 220, 220],\n",
       "       [208,  67, 222, 222]])"
      ]
     },
     "metadata": {},
     "execution_count": 326
    }
   ],
   "metadata": {}
  },
  {
   "cell_type": "markdown",
   "source": [
    "Now check the datatype of conv_IP"
   ],
   "metadata": {}
  },
  {
   "cell_type": "markdown",
   "source": [
    "(0.5 marks) -- 49"
   ],
   "metadata": {}
  },
  {
   "cell_type": "code",
   "execution_count": 327,
   "source": [],
   "outputs": [
    {
     "output_type": "execute_result",
     "data": {
      "text/plain": [
       "numpy.ndarray"
      ]
     },
     "metadata": {},
     "execution_count": 327
    }
   ],
   "metadata": {}
  },
  {
   "cell_type": "markdown",
   "source": [
    "In the above you should get the information that it is a numpy.ndarray"
   ],
   "metadata": {}
  },
  {
   "cell_type": "markdown",
   "source": [
    "Now that we've had a look at our IP addresses stored as 4 columns of integers let's say we want to add in their associated servers. If we think about this in a table format what we want to do is add on an extra column of data to our original table which will tell us the server name for each IP address. So, instead of the columns being oct1, oct2, oct3, oct4 they would be oct1, oct2, oct3, oct4, server. Our dataframe needs to reflect that change. The values that need to appear in that column are provided as a list below."
   ],
   "metadata": {}
  },
  {
   "cell_type": "code",
   "execution_count": 328,
   "source": [
    "servers = ['Cloudflare', 'Cloudflare', 'Google', 'Google', 'DNSResolvers', 'Telstra', 'Norton', 'Norton', 'DNSResolvers', 'OpenDNS', 'OpenDNS']"
   ],
   "outputs": [],
   "metadata": {}
  },
  {
   "cell_type": "markdown",
   "source": [
    " Firstly, let's create a pandas series called my_servers. This series will contain the values that are given in the list above. Do that now in the code cell below. Output the series to make sure this has worked."
   ],
   "metadata": {}
  },
  {
   "cell_type": "markdown",
   "source": [
    "(0.5 marks) -- 49.5"
   ],
   "metadata": {}
  },
  {
   "cell_type": "code",
   "execution_count": 329,
   "source": [],
   "outputs": [
    {
     "output_type": "execute_result",
     "data": {
      "text/plain": [
       "0       Cloudflare\n",
       "1       Cloudflare\n",
       "2           Google\n",
       "3           Google\n",
       "4     DNSResolvers\n",
       "5          Telstra\n",
       "6           Norton\n",
       "7           Norton\n",
       "8     DNSResolvers\n",
       "9          OpenDNS\n",
       "10         OpenDNS\n",
       "dtype: object"
      ]
     },
     "metadata": {},
     "execution_count": 329
    }
   ],
   "metadata": {}
  },
  {
   "cell_type": "markdown",
   "source": [
    "In the above you should get what looks like a column of data with 11 rows. It will also state that the dtype is an object. Let's just query the datatype here before we go any further."
   ],
   "metadata": {}
  },
  {
   "cell_type": "markdown",
   "source": [
    "(0.5 marks) -- 50"
   ],
   "metadata": {}
  },
  {
   "cell_type": "code",
   "execution_count": 330,
   "source": [],
   "outputs": [
    {
     "output_type": "execute_result",
     "data": {
      "text/plain": [
       "pandas.core.series.Series"
      ]
     },
     "metadata": {},
     "execution_count": 330
    }
   ],
   "metadata": {}
  },
  {
   "cell_type": "markdown",
   "source": [
    "You should see in the above pandas.core.series.Series which means you have successfully created a Series object."
   ],
   "metadata": {}
  },
  {
   "cell_type": "markdown",
   "source": [
    "Ok now we are going to have to add this series to our original dataframe IP_address_df as a column. You can do that very easily by simply setting the column to the series (see the Setting subsection of the '10 minutes to pandas' tutorial). Output this to the screen to make sure it worked."
   ],
   "metadata": {}
  },
  {
   "cell_type": "markdown",
   "source": [
    "(0.5 marks) -- 50.5"
   ],
   "metadata": {}
  },
  {
   "cell_type": "code",
   "execution_count": 331,
   "source": [],
   "outputs": [],
   "metadata": {}
  },
  {
   "cell_type": "markdown",
   "source": [
    "In the above you should see that a new column has been added to the IP_address_df dataframe which is what we wanted."
   ],
   "metadata": {}
  },
  {
   "cell_type": "markdown",
   "source": [
    "Let's say we wanted to get all of the rows associated with DNSResolvers. There are two data access methods optimized for pandas that we can use to get these rows: loc and iloc. We are going to use both of them. "
   ],
   "metadata": {}
  },
  {
   "cell_type": "markdown",
   "source": [
    "Firstly, access the DNSResolvers rows of the dataframe with .loc. See the docs for more information on .loc if needed (https://pandas.pydata.org/docs/reference/api/pandas.DataFrame.loc.html#pandas.DataFrame.loc). Note that loc is primarily label based."
   ],
   "metadata": {}
  },
  {
   "cell_type": "markdown",
   "source": [
    "(0.5 marks) -- 51"
   ],
   "metadata": {}
  },
  {
   "cell_type": "code",
   "execution_count": 333,
   "source": [],
   "outputs": [
    {
     "output_type": "execute_result",
     "data": {
      "text/plain": [
       "   oct 1  oct 2  oct 3  oct 4        server\n",
       "4     64     68    200    200  DNSResolvers\n",
       "8    205    210     42    205  DNSResolvers"
      ],
      "text/html": [
       "<div>\n",
       "<style scoped>\n",
       "    .dataframe tbody tr th:only-of-type {\n",
       "        vertical-align: middle;\n",
       "    }\n",
       "\n",
       "    .dataframe tbody tr th {\n",
       "        vertical-align: top;\n",
       "    }\n",
       "\n",
       "    .dataframe thead th {\n",
       "        text-align: right;\n",
       "    }\n",
       "</style>\n",
       "<table border=\"1\" class=\"dataframe\">\n",
       "  <thead>\n",
       "    <tr style=\"text-align: right;\">\n",
       "      <th></th>\n",
       "      <th>oct 1</th>\n",
       "      <th>oct 2</th>\n",
       "      <th>oct 3</th>\n",
       "      <th>oct 4</th>\n",
       "      <th>server</th>\n",
       "    </tr>\n",
       "  </thead>\n",
       "  <tbody>\n",
       "    <tr>\n",
       "      <th>4</th>\n",
       "      <td>64</td>\n",
       "      <td>68</td>\n",
       "      <td>200</td>\n",
       "      <td>200</td>\n",
       "      <td>DNSResolvers</td>\n",
       "    </tr>\n",
       "    <tr>\n",
       "      <th>8</th>\n",
       "      <td>205</td>\n",
       "      <td>210</td>\n",
       "      <td>42</td>\n",
       "      <td>205</td>\n",
       "      <td>DNSResolvers</td>\n",
       "    </tr>\n",
       "  </tbody>\n",
       "</table>\n",
       "</div>"
      ]
     },
     "metadata": {},
     "execution_count": 333
    }
   ],
   "metadata": {}
  },
  {
   "cell_type": "markdown",
   "source": [
    "In the above you should get back a datframe with the rows of interest. If not check your code."
   ],
   "metadata": {}
  },
  {
   "cell_type": "markdown",
   "source": [
    "Now let's try doing the same thing but with .iloc. Note that where .loc is label based .iloc is integer based. See the docs for more information (https://pandas.pydata.org/docs/reference/api/pandas.DataFrame.iloc.html). Access the DNSResolvers rows using .iloc in the code cell below."
   ],
   "metadata": {}
  },
  {
   "cell_type": "markdown",
   "source": [
    "(0.5 marks) -- 51.5"
   ],
   "metadata": {}
  },
  {
   "cell_type": "code",
   "execution_count": 334,
   "source": [],
   "outputs": [
    {
     "output_type": "execute_result",
     "data": {
      "text/plain": [
       "   oct 1  oct 2  oct 3  oct 4        server\n",
       "4     64     68    200    200  DNSResolvers\n",
       "8    205    210     42    205  DNSResolvers"
      ],
      "text/html": [
       "<div>\n",
       "<style scoped>\n",
       "    .dataframe tbody tr th:only-of-type {\n",
       "        vertical-align: middle;\n",
       "    }\n",
       "\n",
       "    .dataframe tbody tr th {\n",
       "        vertical-align: top;\n",
       "    }\n",
       "\n",
       "    .dataframe thead th {\n",
       "        text-align: right;\n",
       "    }\n",
       "</style>\n",
       "<table border=\"1\" class=\"dataframe\">\n",
       "  <thead>\n",
       "    <tr style=\"text-align: right;\">\n",
       "      <th></th>\n",
       "      <th>oct 1</th>\n",
       "      <th>oct 2</th>\n",
       "      <th>oct 3</th>\n",
       "      <th>oct 4</th>\n",
       "      <th>server</th>\n",
       "    </tr>\n",
       "  </thead>\n",
       "  <tbody>\n",
       "    <tr>\n",
       "      <th>4</th>\n",
       "      <td>64</td>\n",
       "      <td>68</td>\n",
       "      <td>200</td>\n",
       "      <td>200</td>\n",
       "      <td>DNSResolvers</td>\n",
       "    </tr>\n",
       "    <tr>\n",
       "      <th>8</th>\n",
       "      <td>205</td>\n",
       "      <td>210</td>\n",
       "      <td>42</td>\n",
       "      <td>205</td>\n",
       "      <td>DNSResolvers</td>\n",
       "    </tr>\n",
       "  </tbody>\n",
       "</table>\n",
       "</div>"
      ]
     },
     "metadata": {},
     "execution_count": 334
    }
   ],
   "metadata": {}
  },
  {
   "cell_type": "markdown",
   "source": [
    "You should have a dataframe with the same results as .loc returned. These are just two different ways of accessing the same information."
   ],
   "metadata": {}
  },
  {
   "cell_type": "markdown",
   "source": [
    "Now let's say that we wanted to change the server which is at address 64.68.200.200 (the fifth row in our dataframe) to 'Norton'. There are two methods that we can use to do this .at and .iat. "
   ],
   "metadata": {}
  },
  {
   "cell_type": "markdown",
   "source": [
    "Using .at change the dataframe to reflect the change that we want in the code cell below"
   ],
   "metadata": {}
  },
  {
   "cell_type": "markdown",
   "source": [
    "(0.5 marks) -- 52"
   ],
   "metadata": {}
  },
  {
   "cell_type": "code",
   "execution_count": 335,
   "source": [],
   "outputs": [],
   "metadata": {}
  },
  {
   "cell_type": "markdown",
   "source": [
    "Now use .iloc on the IP_address_df to see view the data and see that it has changed."
   ],
   "metadata": {}
  },
  {
   "cell_type": "markdown",
   "source": [
    "(0.5 marks) -- 52.5"
   ],
   "metadata": {}
  },
  {
   "cell_type": "code",
   "execution_count": 336,
   "source": [],
   "outputs": [
    {
     "output_type": "execute_result",
     "data": {
      "text/plain": [
       "oct 1         64\n",
       "oct 2         68\n",
       "oct 3        200\n",
       "oct 4        200\n",
       "server    Norton\n",
       "Name: 4, dtype: object"
      ]
     },
     "metadata": {},
     "execution_count": 336
    }
   ],
   "metadata": {}
  },
  {
   "cell_type": "markdown",
   "source": [
    "You should confirm that this fifth row (at index 4) has had its server changed to Norton. Now let's change it back to 'DNSResolvers' with .iat. Remember that .at is label based like .loc and .iat is integer based like .iloc. More on .iat method here (see: https://pandas.pydata.org/docs/reference/api/pandas.DataFrame.iat.html) "
   ],
   "metadata": {}
  },
  {
   "cell_type": "markdown",
   "source": [
    "(0.5 marks) -- 53"
   ],
   "metadata": {}
  },
  {
   "cell_type": "code",
   "execution_count": 337,
   "source": [],
   "outputs": [],
   "metadata": {}
  },
  {
   "cell_type": "markdown",
   "source": [
    "In the code cell below use .iloc to see that it has indeed changed back as expected."
   ],
   "metadata": {}
  },
  {
   "cell_type": "markdown",
   "source": [
    "(0.5 marks) -- 53.5"
   ],
   "metadata": {}
  },
  {
   "cell_type": "code",
   "execution_count": 338,
   "source": [],
   "outputs": [
    {
     "output_type": "execute_result",
     "data": {
      "text/plain": [
       "oct 1               64\n",
       "oct 2               68\n",
       "oct 3              200\n",
       "oct 4              200\n",
       "server    DNSResolvers\n",
       "Name: 4, dtype: object"
      ]
     },
     "metadata": {},
     "execution_count": 338
    }
   ],
   "metadata": {}
  },
  {
   "cell_type": "markdown",
   "source": [
    "Now that we've done some basic accessing and setting on our dataframe let's accomplish one last thing: sorting. This is the same exercise we did with numpy structured arrays in the previous section. \n",
    "\n",
    "In the code cell below let's sort our values by server in reverse alphabetical order (ie. start with Telstra IP addresses and then finish with Cloudflare IP addresses)"
   ],
   "metadata": {}
  },
  {
   "cell_type": "markdown",
   "source": [
    "(1.5 marks) - 55"
   ],
   "metadata": {}
  },
  {
   "cell_type": "code",
   "execution_count": 339,
   "source": [],
   "outputs": [
    {
     "output_type": "execute_result",
     "data": {
      "text/plain": [
       "    oct 1  oct 2  oct 3  oct 4        server\n",
       "5     139    130      4      5       Telstra\n",
       "9     208     67    220    220       OpenDNS\n",
       "10    208     67    222    222       OpenDNS\n",
       "6     198    153    192      1        Norton\n",
       "7     198    153    194      2        Norton\n",
       "2       8      8      4      4        Google\n",
       "3       8      8      8      8        Google\n",
       "4      64     68    200    200  DNSResolvers\n",
       "8     205    210     42    205  DNSResolvers\n",
       "0       1      0      0      1    Cloudflare\n",
       "1       1      1      1      1    Cloudflare"
      ],
      "text/html": [
       "<div>\n",
       "<style scoped>\n",
       "    .dataframe tbody tr th:only-of-type {\n",
       "        vertical-align: middle;\n",
       "    }\n",
       "\n",
       "    .dataframe tbody tr th {\n",
       "        vertical-align: top;\n",
       "    }\n",
       "\n",
       "    .dataframe thead th {\n",
       "        text-align: right;\n",
       "    }\n",
       "</style>\n",
       "<table border=\"1\" class=\"dataframe\">\n",
       "  <thead>\n",
       "    <tr style=\"text-align: right;\">\n",
       "      <th></th>\n",
       "      <th>oct 1</th>\n",
       "      <th>oct 2</th>\n",
       "      <th>oct 3</th>\n",
       "      <th>oct 4</th>\n",
       "      <th>server</th>\n",
       "    </tr>\n",
       "  </thead>\n",
       "  <tbody>\n",
       "    <tr>\n",
       "      <th>5</th>\n",
       "      <td>139</td>\n",
       "      <td>130</td>\n",
       "      <td>4</td>\n",
       "      <td>5</td>\n",
       "      <td>Telstra</td>\n",
       "    </tr>\n",
       "    <tr>\n",
       "      <th>9</th>\n",
       "      <td>208</td>\n",
       "      <td>67</td>\n",
       "      <td>220</td>\n",
       "      <td>220</td>\n",
       "      <td>OpenDNS</td>\n",
       "    </tr>\n",
       "    <tr>\n",
       "      <th>10</th>\n",
       "      <td>208</td>\n",
       "      <td>67</td>\n",
       "      <td>222</td>\n",
       "      <td>222</td>\n",
       "      <td>OpenDNS</td>\n",
       "    </tr>\n",
       "    <tr>\n",
       "      <th>6</th>\n",
       "      <td>198</td>\n",
       "      <td>153</td>\n",
       "      <td>192</td>\n",
       "      <td>1</td>\n",
       "      <td>Norton</td>\n",
       "    </tr>\n",
       "    <tr>\n",
       "      <th>7</th>\n",
       "      <td>198</td>\n",
       "      <td>153</td>\n",
       "      <td>194</td>\n",
       "      <td>2</td>\n",
       "      <td>Norton</td>\n",
       "    </tr>\n",
       "    <tr>\n",
       "      <th>2</th>\n",
       "      <td>8</td>\n",
       "      <td>8</td>\n",
       "      <td>4</td>\n",
       "      <td>4</td>\n",
       "      <td>Google</td>\n",
       "    </tr>\n",
       "    <tr>\n",
       "      <th>3</th>\n",
       "      <td>8</td>\n",
       "      <td>8</td>\n",
       "      <td>8</td>\n",
       "      <td>8</td>\n",
       "      <td>Google</td>\n",
       "    </tr>\n",
       "    <tr>\n",
       "      <th>4</th>\n",
       "      <td>64</td>\n",
       "      <td>68</td>\n",
       "      <td>200</td>\n",
       "      <td>200</td>\n",
       "      <td>DNSResolvers</td>\n",
       "    </tr>\n",
       "    <tr>\n",
       "      <th>8</th>\n",
       "      <td>205</td>\n",
       "      <td>210</td>\n",
       "      <td>42</td>\n",
       "      <td>205</td>\n",
       "      <td>DNSResolvers</td>\n",
       "    </tr>\n",
       "    <tr>\n",
       "      <th>0</th>\n",
       "      <td>1</td>\n",
       "      <td>0</td>\n",
       "      <td>0</td>\n",
       "      <td>1</td>\n",
       "      <td>Cloudflare</td>\n",
       "    </tr>\n",
       "    <tr>\n",
       "      <th>1</th>\n",
       "      <td>1</td>\n",
       "      <td>1</td>\n",
       "      <td>1</td>\n",
       "      <td>1</td>\n",
       "      <td>Cloudflare</td>\n",
       "    </tr>\n",
       "  </tbody>\n",
       "</table>\n",
       "</div>"
      ]
     },
     "metadata": {},
     "execution_count": 339
    }
   ],
   "metadata": {}
  },
  {
   "cell_type": "markdown",
   "source": [
    "Hopefully by now you should be able to see the motivation and advantages of Pandas over numpy's structured arrays. Compare how easy it was to construct, change and work with a numpy structured array in the previous section to how easy it was to construct, change and work with a Pandas dataframe - as we just did here. \n",
    "\n",
    "Numpy's structured arrays are still very useful but are generally constrained to interfacing with C structs and other low level manipulation of structured buffers as explained here (see: https://numpy.org/doc/stable/user/basics.rec.html)"
   ],
   "metadata": {}
  }
 ]
}